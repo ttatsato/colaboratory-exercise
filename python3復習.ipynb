{
  "nbformat": 4,
  "nbformat_minor": 0,
  "metadata": {
    "colab": {
      "name": "python3復習.ipynb",
      "provenance": [],
      "collapsed_sections": [],
      "include_colab_link": true
    },
    "kernelspec": {
      "name": "python3",
      "display_name": "Python 3"
    }
  },
  "cells": [
    {
      "cell_type": "markdown",
      "metadata": {
        "id": "view-in-github",
        "colab_type": "text"
      },
      "source": [
        "<a href=\"https://colab.research.google.com/github/ttatsato/colaboratory-exercise/blob/master/python3%E5%BE%A9%E7%BF%92.ipynb\" target=\"_parent\"><img src=\"https://colab.research.google.com/assets/colab-badge.svg\" alt=\"Open In Colab\"/></a>"
      ]
    },
    {
      "cell_type": "code",
      "metadata": {
        "id": "L73l7vfzmJEs",
        "colab_type": "code",
        "outputId": "5db543cc-8274-426f-8843-7f03f87b1409",
        "colab": {
          "base_uri": "https://localhost:8080/",
          "height": 221
        }
      },
      "source": [
        "x = 11 + 2;\n",
        "print(x);\n",
        "\n",
        "# 関数\n",
        "def hello (name='world'):\n",
        "  print('hello {}'.format(name));\n",
        "\n",
        "hello();\n",
        "hello('tatsuya');\n",
        "\n",
        "# lambdaを使う\n",
        "func = lambda w, h : w * h;\n",
        "num = func(1, 11);\n",
        "\n",
        "print(num);\n",
        "\n",
        "# イテレータ\n",
        "list = ['red', 'orange', 'blue'];\n",
        "print(list);\n",
        "iter = list.__iter__();\n",
        "print(iter);\n",
        "print(next(iter));\n",
        "print(next(iter));\n",
        "print(next(iter));\n",
        "\n",
        "## generate iterater with generator\n",
        "def menu_generator ():\n",
        "  yield 'ワイン';\n",
        "  yield 'サラダ';\n",
        "  yield 'スープ';\n",
        "  yield 'ステーキ';\n",
        "  yield 'アイスクリーム';\n",
        "\n",
        "menu = menu_generator();\n",
        "print(menu);\n",
        "print(next(menu));\n",
        "print(next(menu));\n",
        "print(next(menu));"
      ],
      "execution_count": 40,
      "outputs": [
        {
          "output_type": "stream",
          "text": [
            "13\n",
            "hello world\n",
            "hello tatsuya\n",
            "11\n",
            "['red', 'orange', 'blue']\n",
            "red\n",
            "orange\n",
            "blue\n",
            "<generator object menu_generator at 0x7f2ffe94ef10>\n",
            "ワイン\n",
            "サラダ\n",
            "スープ\n"
          ],
          "name": "stdout"
        }
      ]
    },
    {
      "cell_type": "code",
      "metadata": {
        "id": "xo2TkX5us_Sp",
        "colab_type": "code",
        "colab": {}
      },
      "source": [
        ""
      ],
      "execution_count": 0,
      "outputs": []
    }
  ]
}