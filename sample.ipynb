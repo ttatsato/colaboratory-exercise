x = 11 + 2;
print(x);

# 関数
def hello (name='world'):
  print('hello {}'.format(name));

hello();
hello('tatsuya');

# lambdaを使う
func = lambda w, h : w * h;
num = func(1, 11);

print(num);

# イテレータ
list = ['red', 'orange', 'blue'];
print(list);
iter = list.__iter__();
print(iter);
print(next(iter));
print(next(iter));
print(next(iter));
