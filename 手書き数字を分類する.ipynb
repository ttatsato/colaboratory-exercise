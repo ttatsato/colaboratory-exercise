{
  "nbformat": 4,
  "nbformat_minor": 0,
  "metadata": {
    "colab": {
      "name": "手書き数字を分類する.ipynb",
      "provenance": [],
      "include_colab_link": true
    },
    "kernelspec": {
      "name": "python3",
      "display_name": "Python 3"
    }
  },
  "cells": [
    {
      "cell_type": "markdown",
      "metadata": {
        "id": "view-in-github",
        "colab_type": "text"
      },
      "source": [
        "<a href=\"https://colab.research.google.com/github/ttatsato/colaboratory-exercise/blob/master/%E6%89%8B%E6%9B%B8%E3%81%8D%E6%95%B0%E5%AD%97%E3%82%92%E5%88%86%E9%A1%9E%E3%81%99%E3%82%8B.ipynb\" target=\"_parent\"><img src=\"https://colab.research.google.com/assets/colab-badge.svg\" alt=\"Open In Colab\"/></a>"
      ]
    },
    {
      "cell_type": "code",
      "metadata": {
        "id": "JcYQkt8PE2oU",
        "colab_type": "code",
        "colab": {
          "base_uri": "https://localhost:8080/",
          "height": 615
        },
        "outputId": "202d930f-63c2-4c3c-c593-03c377def25a"
      },
      "source": [
        "# 手書き数字を分類する ~データセットの中身を確かめる~\n",
        "\n",
        "from sklearn import datasets;\n",
        "digits = datasets.load_digits();\n",
        "\n",
        "dir(digits);\n",
        "print(dir(digits));\n",
        "# 'DESCR' ... データセットの説明文\n",
        "# 'data' ... 画像データ\n",
        "# 'images' ... 画像データを8行8列にしたもの\n",
        "# 'target' ... 画像データに対する数字\n",
        "# 'target_names' ... targetデータの名前\n",
        "\n",
        "# データの説明を出力する\n",
        "# print(digits.DESCR);\n",
        "\n",
        "# データの構造を調べる(shape)\n",
        "\n",
        "print(digits.data.shape);\n",
        "# >>> (1797, 64) 1797 * 64 の２次配列\n",
        "\n",
        "print(digits.target.shape);\n",
        "# >>> (1797) 要素が1797の1次配列\n",
        "\n",
        "print(digits.data);\n",
        "\n",
        "print(digits.images[0]);\n",
        "\n",
        "import matplotlib.pyplot as plt\n",
        "plt.matshow(digits.images[1], cmap=\"Greys\");\n",
        "plt.show();\n",
        "\n",
        "print(digits.target[1]);\n",
        "print(digits.target_names[1]);"
      ],
      "execution_count": 20,
      "outputs": [
        {
          "output_type": "stream",
          "text": [
            "['DESCR', 'data', 'images', 'target', 'target_names']\n",
            "(1797, 64)\n",
            "(1797,)\n",
            "[[ 0.  0.  5. ...  0.  0.  0.]\n",
            " [ 0.  0.  0. ... 10.  0.  0.]\n",
            " [ 0.  0.  0. ... 16.  9.  0.]\n",
            " ...\n",
            " [ 0.  0.  1. ...  6.  0.  0.]\n",
            " [ 0.  0.  2. ... 12.  0.  0.]\n",
            " [ 0.  0. 10. ... 12.  1.  0.]]\n",
            "[[ 0.  0.  5. 13.  9.  1.  0.  0.]\n",
            " [ 0.  0. 13. 15. 10. 15.  5.  0.]\n",
            " [ 0.  3. 15.  2.  0. 11.  8.  0.]\n",
            " [ 0.  4. 12.  0.  0.  8.  8.  0.]\n",
            " [ 0.  5.  8.  0.  0.  9.  8.  0.]\n",
            " [ 0.  4. 11.  0.  1. 12.  7.  0.]\n",
            " [ 0.  2. 14.  5. 10. 12.  0.  0.]\n",
            " [ 0.  0.  6. 13. 10.  0.  0.  0.]]\n"
          ],
          "name": "stdout"
        },
        {
          "output_type": "display_data",
          "data": {
            "image/png": "[encoded data removed]",
            "text/plain": [
              "<Figure size 288x288 with 1 Axes>"
            ]
          },
          "metadata": {
            "tags": []
          }
        },
        {
          "output_type": "stream",
          "text": [
            "1\n",
            "1\n"
          ],
          "name": "stdout"
        }
      ]
    },
    {
      "cell_type": "code",
      "metadata": {
        "id": "wjn9ljLfJtY1",
        "colab_type": "code",
        "colab": {
          "base_uri": "https://localhost:8080/",
          "height": 595
        },
        "outputId": "aea0fce4-99a7-4e97-9966-40312463a219"
      },
      "source": [
        "# 手書き数字を分類する ~機械学習を行う~\n",
        "from sklearn import datasets, svm;\n",
        "\n",
        "\n",
        "digits = datasets.load_digits();\n",
        "\n",
        "# 訓練データ(2/3)とテストデータ(1/3)に分ける\n",
        "n_train = len(digits.data) * 2//3;\n",
        "X_train = digits.data[:n_train];\n",
        "Y_train = digits.target[:n_train];\n",
        "X_test = digits.data[n_train:];\n",
        "Y_test = digits.target[n_train:];\n",
        "print('分けられたか数値を確認');\n",
        "print([d.shape for d in [digits.data, X_train, Y_train, X_test, Y_test]]);\n",
        "\n",
        "# 分類機を用いて学習したモデルを作る\n",
        "clf = svm.SVC(gamma=0.001);\n",
        "clf.fit (X_train, Y_train);\n",
        "\n",
        "# テストデータで評価する\n",
        "print(clf.score(X_test, Y_test))\n",
        "\n",
        "# 学習済みモデルが誤って分類した個数を調べる\n",
        "predicted = clf.predict(X_test);\n",
        "\n",
        "print(\"正解の分類結果と一致しなかった数の合計値\")\n",
        "print((Y_test != predicted).sum());\n",
        "\n",
        "# 学習結果をレポートする\n",
        "from sklearn import metrics\n",
        "print(\"---- sklearnを使用してレポートを表示する\")\n",
        "print(metrics.classification_report(Y_test, predicted));\n",
        "\n",
        "print(\"---- 数字ごとに正解数と読み間違えた数字をみる\")\n",
        "print(metrics.confusion_matrix(Y_test, predicted));\n",
        "\n",
        "print(\"---- 画像で確認する\")\n",
        "import matplotlib.pyplot as plt"
      ],
      "execution_count": 34,
      "outputs": [
        {
          "output_type": "stream",
          "text": [
            "分けられたか数値を確認\n",
            "[(1797, 64), (1198, 64), (1198,), (599, 64), (599,)]\n",
            "0.9632721202003339\n",
            "正解の分類結果と一致しなかった数の合計値\n",
            "22\n",
            "---- sklearnを使用してレポートを表示する\n",
            "              precision    recall  f1-score   support\n",
            "\n",
            "           0       1.00      0.98      0.99        59\n",
            "           1       0.97      1.00      0.98        62\n",
            "           2       1.00      0.98      0.99        60\n",
            "           3       0.96      0.81      0.88        62\n",
            "           4       0.98      0.95      0.97        62\n",
            "           5       0.95      0.98      0.97        59\n",
            "           6       0.98      0.98      0.98        61\n",
            "           7       0.95      1.00      0.98        61\n",
            "           8       0.89      0.98      0.93        55\n",
            "           9       0.95      0.97      0.96        58\n",
            "\n",
            "    accuracy                           0.96       599\n",
            "   macro avg       0.96      0.96      0.96       599\n",
            "weighted avg       0.96      0.96      0.96       599\n",
            "\n",
            "---- 数字ごとに正解数と読み間違えた数字をみる\n",
            "[[58  0  0  0  1  0  0  0  0  0]\n",
            " [ 0 62  0  0  0  0  0  0  0  0]\n",
            " [ 0  0 59  1  0  0  0  0  0  0]\n",
            " [ 0  0  0 50  0  2  0  3  7  0]\n",
            " [ 0  0  0  0 59  0  0  0  0  3]\n",
            " [ 0  0  0  0  0 58  1  0  0  0]\n",
            " [ 0  1  0  0  0  0 60  0  0  0]\n",
            " [ 0  0  0  0  0  0  0 61  0  0]\n",
            " [ 0  1  0  0  0  0  0  0 54  0]\n",
            " [ 0  0  0  1  0  1  0  0  0 56]]\n"
          ],
          "name": "stdout"
        }
      ]
    }
  ]
}